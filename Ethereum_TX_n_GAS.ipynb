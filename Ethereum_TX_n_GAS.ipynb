{
  "nbformat": 4,
  "nbformat_minor": 0,
  "metadata": {
    "colab": {
      "provenance": [],
      "authorship_tag": "ABX9TyPaM7naxdYFHAr2dz6FFo6i",
      "include_colab_link": true
    },
    "kernelspec": {
      "name": "python3",
      "display_name": "Python 3"
    },
    "language_info": {
      "name": "python"
    }
  },
  "cells": [
    {
      "cell_type": "markdown",
      "metadata": {
        "id": "view-in-github",
        "colab_type": "text"
      },
      "source": [
        "<a href=\"https://colab.research.google.com/github/cras-lab/BlockChain_API/blob/main/Ethereum_TX_n_GAS.ipynb\" target=\"_parent\"><img src=\"https://colab.research.google.com/assets/colab-badge.svg\" alt=\"Open In Colab\"/></a>"
      ]
    },
    {
      "cell_type": "markdown",
      "source": [
        "web3모듈은 파이썬을 사용하여 이더리움 블록체인과 상호작용하는 라이브러리<BR>\n",
        "이더리움 블록에서 평균 트랜잭션 개수와 개스비용을 읽어오는 예제"
      ],
      "metadata": {
        "id": "CfqEumvkwLLX"
      }
    },
    {
      "cell_type": "code",
      "source": [
        "pip install -q web3"
      ],
      "metadata": {
        "id": "H18D7y0Mr5yT"
      },
      "execution_count": 21,
      "outputs": []
    },
    {
      "cell_type": "markdown",
      "source": [
        "필요한 모듈을 임포트한다."
      ],
      "metadata": {
        "id": "SwKZ_9cx2rTN"
      }
    },
    {
      "cell_type": "code",
      "source": [
        "from web3 import Web3\n",
        "import matplotlib.pyplot as plt"
      ],
      "metadata": {
        "id": "Ew3355Gh2tup"
      },
      "execution_count": 22,
      "outputs": []
    },
    {
      "cell_type": "markdown",
      "source": [
        "Infura의 키를 입력한다. 반드시 본인의 키로 대체해야 한다."
      ],
      "metadata": {
        "id": "sXaPKd9U2vQ2"
      }
    },
    {
      "cell_type": "code",
      "source": [
        "# Infura HTTP 프로바이더 URL (본인의 키로 대체)\n",
        "infura_url = \"https://mainnet.infura.io/v3/1914acea63974a9284b713394080e9d3\""
      ],
      "metadata": {
        "id": "cpoF9Fy02zLJ"
      },
      "execution_count": 23,
      "outputs": []
    },
    {
      "cell_type": "markdown",
      "source": [
        "web3 인스턴스를 생성한다."
      ],
      "metadata": {
        "id": "6pAVQYjN21cK"
      }
    },
    {
      "cell_type": "code",
      "source": [
        "# Web3 인스턴스 생성\n",
        "web3 = Web3(Web3.HTTPProvider(infura_url))"
      ],
      "metadata": {
        "id": "O7Wh2lbj25nO"
      },
      "execution_count": 24,
      "outputs": []
    },
    {
      "cell_type": "markdown",
      "source": [
        "시작블록과 끝 블록을 지정한다."
      ],
      "metadata": {
        "id": "OZT-_ZqF268Z"
      }
    },
    {
      "cell_type": "code",
      "source": [
        "# 확인 범위\n",
        "start_block = 20000000\n",
        "end_block = 20000050"
      ],
      "metadata": {
        "id": "bhxkk2GW2-eu"
      },
      "execution_count": 28,
      "outputs": []
    },
    {
      "cell_type": "markdown",
      "source": [
        "트랜잭션 개수와 평균가스 비용을 저장할 리스트를 초기화해서 준비한다."
      ],
      "metadata": {
        "id": "WpLARky83C3l"
      }
    },
    {
      "cell_type": "code",
      "source": [
        "# 트랜잭션 개수와 평균 가스 비용을 저장할 리스트\n",
        "tx_counts = []\n",
        "total_fees = []\n",
        "block_numbers = []"
      ],
      "metadata": {
        "id": "sER4uz_l3I9l"
      },
      "execution_count": 29,
      "outputs": []
    },
    {
      "cell_type": "markdown",
      "source": [
        "연결해서 값을 읽어온다.<BR>\n",
        "각 블록의 트랜잭션 개수를 확인하고 총수수료를 계산 후 평균을 구하고 그래프로 그린다."
      ],
      "metadata": {
        "id": "HP-SkQiK3MS5"
      }
    },
    {
      "cell_type": "markdown",
      "source": [
        "그래프로 그린다."
      ],
      "metadata": {
        "id": "ET44Hioh3aRk"
      }
    },
    {
      "cell_type": "code",
      "source": [
        "# 연결 상태 확인\n",
        "if web3.is_connected():\n",
        "    print(\"Connected to Ethereum network\")\n",
        "\n",
        "    # 각 블록의 트랜잭션 개수와 총 수수료 계산\n",
        "    for block_number in range(start_block, end_block + 1):\n",
        "        block = web3.eth.get_block(block_number, full_transactions=True)\n",
        "        tx_count = len(block['transactions'])\n",
        "        tx_counts.append(tx_count)\n",
        "        block_numbers.append(block_number)\n",
        "\n",
        "        if tx_count > 0:\n",
        "            total_gas_fee = 0\n",
        "            for tx in block['transactions']:\n",
        "                receipt = web3.eth.get_transaction_receipt(tx['hash'])\n",
        "                gas_used = receipt['gasUsed']\n",
        "                total_gas_fee += tx['gasPrice'] * gas_used\n",
        "\n",
        "            total_fees.append(total_gas_fee / 1e18)  # ETH 단위로 변환\n",
        "        else:\n",
        "            total_fees.append(0)\n",
        "#\n",
        "        print(f\"Block {block_number} has {tx_count} transactions with total fee {total_gas_fee / 1e18} ETH\")\n",
        "\n",
        "    # 총 트랜잭션 개수와 평균 수수료 계산\n",
        "    total_tx_count = sum(tx_counts)\n",
        "    overall_average_fee = sum(total_fees) / len(total_fees)\n",
        "#    print(f\"\\nTotal transactions from block {start_block} to {end_block}: {total_tx_count}\")\n",
        "#    print(f\"Overall average fee: {overall_average_fee:.6f} ETH\")\n",
        "\n",
        "    # 그래프 생성\n",
        "    fig, ax1 = plt.subplots(figsize=(10, 6))\n",
        "\n",
        "    # 평균 수수료를 왼쪽 축에 표시\n",
        "    ax1.set_xlabel('Block Number')\n",
        "    ax1.set_ylabel('Average Fee (ETH)', color='blue')\n",
        "    ax1.plot(block_numbers, total_fees, marker='o', linestyle='-', color='blue', label='Average Fee')\n",
        "    ax1.tick_params(axis='y', labelcolor='blue')\n",
        "    ax1.grid(True)\n",
        "\n",
        "    # 평균 트랜잭션 수를 오른쪽 축에 표시\n",
        "    ax2 = ax1.twinx()\n",
        "    ax2.set_ylabel('Number of Transactions', color='green')\n",
        "    ax2.plot(block_numbers, tx_counts, marker='o', linestyle='-', color='green', label='Number of Transactions')\n",
        "    ax2.tick_params(axis='y', labelcolor='green')\n",
        "\n",
        "    # 제목 및 범례 추가\n",
        "    plt.title('Average Fee and Number of Transactions per Block')\n",
        "    fig.tight_layout()\n",
        "    plt.show()\n",
        "else:\n",
        "    print(\"Failed to connect to Ethereum network\")\n"
      ],
      "metadata": {
        "id": "zBIaQScaz2Y4"
      },
      "execution_count": null,
      "outputs": []
    }
  ]
}