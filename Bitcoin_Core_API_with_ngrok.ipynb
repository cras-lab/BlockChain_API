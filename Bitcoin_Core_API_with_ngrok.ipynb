{
  "nbformat": 4,
  "nbformat_minor": 0,
  "metadata": {
    "colab": {
      "provenance": [],
      "authorship_tag": "ABX9TyP3ELaTyaNa96hB7SQ3H7Ut",
      "include_colab_link": true
    },
    "kernelspec": {
      "name": "python3",
      "display_name": "Python 3"
    },
    "language_info": {
      "name": "python"
    }
  },
  "cells": [
    {
      "cell_type": "markdown",
      "metadata": {
        "id": "view-in-github",
        "colab_type": "text"
      },
      "source": [
        "<a href=\"https://colab.research.google.com/github/cras-lab/BlockChain_API/blob/main/Bitcoin_Core_API_with_ngrok.ipynb\" target=\"_parent\"><img src=\"https://colab.research.google.com/assets/colab-badge.svg\" alt=\"Open In Colab\"/></a>"
      ]
    },
    {
      "cell_type": "markdown",
      "source": [
        "필요한 모듈을 임포트 한다."
      ],
      "metadata": {
        "id": "iMsPNfd22IsY"
      }
    },
    {
      "cell_type": "code",
      "source": [
        "import requests\n",
        "import json"
      ],
      "metadata": {
        "id": "i307xSA32L7d"
      },
      "execution_count": 1,
      "outputs": []
    },
    {
      "cell_type": "markdown",
      "source": [
        "ngrok에서 제공하는 URL을 입력한다. 터미널에 있는 주소를 복사해 온다."
      ],
      "metadata": {
        "id": "9kKMbiFc2Nd2"
      }
    },
    {
      "cell_type": "code",
      "source": [
        "# ngrok에서 제공한 URL을 입력합니다.\n",
        "ngrok_url = 'https://9cde-220-118-14-125.ngrok-free.app' # 본인의 URL로 설정'"
      ],
      "metadata": {
        "id": "q3p0vmHM2TOS"
      },
      "execution_count": 2,
      "outputs": []
    },
    {
      "cell_type": "markdown",
      "source": [
        "사용자명과 비밀번호를 설정한다. bitcoin.conf에 설정된 내용을 그대로 가져온다."
      ],
      "metadata": {
        "id": "_0R7Iwzg2V4g"
      }
    },
    {
      "cell_type": "code",
      "source": [
        "# Bitcoin Core RPC 사용자명과 비밀번호를 설정합니다.\n",
        "rpc_user = 'bulee'\n",
        "rpc_password = 'bitcoinsucks'"
      ],
      "metadata": {
        "id": "KCk23-6D2Uzl"
      },
      "execution_count": 3,
      "outputs": []
    },
    {
      "cell_type": "markdown",
      "source": [
        "API를 호출하기 위한 기본 설정을 한다."
      ],
      "metadata": {
        "id": "PgAEhjmf2f6x"
      }
    },
    {
      "cell_type": "code",
      "source": [
        "# URL과 헤더 설정\n",
        "url = f'{ngrok_url}/'\n",
        "headers = {'content-type': 'application/json'}"
      ],
      "metadata": {
        "id": "pkJHcHgS2jiu"
      },
      "execution_count": 4,
      "outputs": []
    },
    {
      "cell_type": "markdown",
      "source": [
        "필요한 함수를 정의한다."
      ],
      "metadata": {
        "id": "voUAUcTG2k78"
      }
    },
    {
      "cell_type": "code",
      "execution_count": 5,
      "metadata": {
        "id": "Dzt8L_4YVP7h"
      },
      "outputs": [],
      "source": [
        "def get_block_hash(height):\n",
        "    \"\"\"주어진 높이의 블록 해시를 반환\"\"\"\n",
        "    payload = json.dumps({\n",
        "        \"method\": \"getblockhash\",\n",
        "        \"params\": [height],\n",
        "        \"jsonrpc\": \"2.0\",\n",
        "        \"id\": \"getblockhash\"\n",
        "    })\n",
        "    response = requests.post(url, headers=headers, data=payload, auth=(rpc_user, rpc_password))\n",
        "    return response.json()['result']\n",
        "\n",
        "def get_block_data(block_hash):\n",
        "    \"\"\"블록 해시로 블록 데이터를 반환\"\"\"\n",
        "    payload = json.dumps({\n",
        "        \"method\": \"getblock\",\n",
        "        \"params\": [block_hash, 1],\n",
        "        \"jsonrpc\": \"2.0\",\n",
        "        \"id\": \"getblock\"\n",
        "    })\n",
        "    response = requests.post(url, headers=headers, data=payload, auth=(rpc_user, rpc_password))\n",
        "    return response.json()['result']\n",
        "\n",
        "def display_block_info(block_data):\n",
        "    \"\"\"블록의 기본 정보를 출력\"\"\"\n",
        "    print(f\"Block Hash: {block_data['hash']}\")\n",
        "    print(f\"Height: {block_data['height']}\")\n",
        "    print(f\"Timestamp: {block_data['time']}\")\n",
        "    print(f\"Number of Transactions: {len(block_data['tx'])}\")\n",
        "    print(\"\\nTransactions:\")\n",
        "    for tx in block_data['tx']:\n",
        "        print(f\" - {tx}\")"
      ]
    },
    {
      "cell_type": "markdown",
      "source": [
        "블록 번호를 준 다음 함수를 호출해 본다."
      ],
      "metadata": {
        "id": "OGTMUcne2_ZM"
      }
    },
    {
      "cell_type": "code",
      "source": [
        "# 블록 높이 입력\n",
        "block_height = 120000"
      ],
      "metadata": {
        "id": "k1iLZpBb3EQN"
      },
      "execution_count": 9,
      "outputs": []
    },
    {
      "cell_type": "markdown",
      "source": [
        "블록정보를 가져와 본다."
      ],
      "metadata": {
        "id": "_uvteGve3HEt"
      }
    },
    {
      "cell_type": "code",
      "source": [
        "# 블록 해시 가져오기\n",
        "block_hash = get_block_hash(block_height)\n",
        "\n",
        "# 블록 데이터 가져오기\n",
        "block_data = get_block_data(block_hash)"
      ],
      "metadata": {
        "id": "B4roPW443J2E"
      },
      "execution_count": 10,
      "outputs": []
    },
    {
      "cell_type": "markdown",
      "source": [
        "블록 내용을 출력해 본다,"
      ],
      "metadata": {
        "id": "MR-9qYvE3P52"
      }
    },
    {
      "cell_type": "code",
      "source": [
        "# 블록 정보 출력\n",
        "display_block_info(block_data)"
      ],
      "metadata": {
        "id": "HsS6Q_0k3Pz8"
      },
      "execution_count": null,
      "outputs": []
    }
  ]
}