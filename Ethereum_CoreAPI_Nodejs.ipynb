{
  "nbformat": 4,
  "nbformat_minor": 0,
  "metadata": {
    "colab": {
      "provenance": [],
      "authorship_tag": "ABX9TyNrhYVK+Rqjfb6kfPOGLCYk",
      "include_colab_link": true
    },
    "kernelspec": {
      "name": "python3",
      "display_name": "Python 3"
    },
    "language_info": {
      "name": "python"
    }
  },
  "cells": [
    {
      "cell_type": "markdown",
      "metadata": {
        "id": "view-in-github",
        "colab_type": "text"
      },
      "source": [
        "<a href=\"https://colab.research.google.com/github/cras-lab/BlockChain_API/blob/main/Ethereum_CoreAPI_Nodejs.ipynb\" target=\"_parent\"><img src=\"https://colab.research.google.com/assets/colab-badge.svg\" alt=\"Open In Colab\"/></a>"
      ]
    },
    {
      "cell_type": "markdown",
      "source": [
        "이더리움 로컬에 접속하는 예제<BR>\n",
        "먼저 web3 모듈을 설치해야 한다."
      ],
      "metadata": {
        "id": "nkfS0xsQUDtV"
      }
    },
    {
      "cell_type": "code",
      "source": [
        "pip -q install web3"
      ],
      "metadata": {
        "id": "rl1sAIRHOh8U"
      },
      "execution_count": null,
      "outputs": []
    },
    {
      "cell_type": "markdown",
      "source": [
        "필요한 모듈을 임포트 한다."
      ],
      "metadata": {
        "id": "iF51-4-KUB0_"
      }
    },
    {
      "cell_type": "code",
      "source": [
        "from web3 import Web3\n",
        "import matplotlib.pyplot as plt"
      ],
      "metadata": {
        "id": "24RcVOqEUSnQ"
      },
      "execution_count": 3,
      "outputs": []
    },
    {
      "cell_type": "markdown",
      "source": [
        "Colab 설치시 로컬접근을 위해서는 터널링이 필요하다.<BR>\n",
        "CMD창에서 \"lt --port 8545 --local-host 0.0.0.0\"을 실행해야 한다. <BR>\n",
        "Node.js를 사용해서 터널링을 한다.node.js를 실행하고 나서 나타나는 URL을 복사해서 입력"
      ],
      "metadata": {
        "id": "4Woa4OhlUwzQ"
      }
    },
    {
      "cell_type": "code",
      "source": [
        "# node.js를 통한 외부 접근 URL. Colab 설치시 필요\n",
        "nodejs_url =  \"https://thick-suits-stay.loca.lt\""
      ],
      "metadata": {
        "id": "2l7W23LtU8em"
      },
      "execution_count": 4,
      "outputs": []
    },
    {
      "cell_type": "markdown",
      "source": [
        "블록을 읽어 올 범위 등을 설정하고, 여러 변수를 초기화 한다."
      ],
      "metadata": {
        "id": "0IOxBhWEVAL3"
      }
    },
    {
      "cell_type": "code",
      "source": [
        "# 확인 범위\n",
        "start_block = 1000\n",
        "end_block = 1050\n",
        "\n",
        "# 트랜잭션 개수와 평균 가스 비용을 저장할 리스트\n",
        "tx_counts = []\n",
        "total_fees = []\n",
        "block_numbers = []"
      ],
      "metadata": {
        "id": "RuYqy0yFVF3o"
      },
      "execution_count": 5,
      "outputs": []
    },
    {
      "cell_type": "markdown",
      "source": [
        "로컬 이더리움에 접속한다."
      ],
      "metadata": {
        "id": "gfsq_95xVHUV"
      }
    },
    {
      "cell_type": "code",
      "source": [
        "web3 = Web3(Web3.HTTPProvider(nodejs_url))"
      ],
      "metadata": {
        "id": "l6fdx9aCVOtO"
      },
      "execution_count": 8,
      "outputs": []
    },
    {
      "cell_type": "markdown",
      "source": [
        "현재 동기화 상태인지, 초기 동기화가 끝났는지 확인한다."
      ],
      "metadata": {
        "id": "-2Sh_NyhVSMU"
      }
    },
    {
      "cell_type": "code",
      "source": [
        "# 동기화 상태 확인\n",
        "sync_status = web3.eth.syncing"
      ],
      "metadata": {
        "id": "a25mZYOIVXP6"
      },
      "execution_count": null,
      "outputs": []
    },
    {
      "cell_type": "code",
      "source": [
        "# 연결 상태 확인\n",
        "if web3.is_connected() and not sync_status:     # 연결 및 동기화 완료\n",
        "    print(\"Connected to Ethereum network...\")\n",
        "\n",
        "    # 각 블록의 트랜잭션 개수와 총 수수료 계산\n",
        "    for block_number in range(start_block, end_block + 1):\n",
        "        block = web3.eth.get_block(block_number, full_transactions=True)\n",
        "        tx_count = len(block['transactions'])\n",
        "        tx_counts.append(tx_count)\n",
        "        block_numbers.append(block_number)\n",
        "\n",
        "        if tx_count > 0:\n",
        "            total_gas_fee = 0\n",
        "            for tx in block['transactions']:\n",
        "                receipt = web3.eth.get_transaction_receipt(tx['hash'])\n",
        "                gas_used = receipt['gasUsed']\n",
        "                total_gas_fee += tx['gasPrice'] * gas_used\n",
        "\n",
        "            total_fees.append(total_gas_fee / 1e18)  # ETH 단위로 변환\n",
        "        else:\n",
        "            total_fees.append(0)\n",
        "\n",
        "        print(f\"Block {block_number} has {tx_count} transactions with total fee {total_gas_fee / 1e18} ETH\")\n",
        "\n",
        "    # 총 트랜잭션 개수와 평균 계산\n",
        "    total_tx_count = sum(tx_counts)\n",
        "    overall_average_fee = sum(total_fees) / len(total_fees)\n",
        "    print(f\"\\nTotal transactions from block {start_block} to {end_block}: {total_tx_count}\")\n",
        "    print(f\"Overall average fee: {overall_average_fee:.6f} ETH\")\n",
        "\n",
        "    # 그래프 생성\n",
        "    fig, ax1 = plt.subplots(figsize=(10, 6))\n",
        "\n",
        "    # 평균 수수료를 왼쪽 축에 표시\n",
        "    ax1.set_xlabel('Block Number')\n",
        "    ax1.set_ylabel('Average Fee (ETH)', color='blue')\n",
        "    ax1.plot(block_numbers, total_fees, marker='o', linestyle='-', color='blue', label='Average Fee')\n",
        "    ax1.tick_params(axis='y', labelcolor='blue')\n",
        "    ax1.grid(True)\n",
        "\n",
        "    # 평균 트랜잭션 수를 오른쪽 축에 표시\n",
        "    ax2 = ax1.twinx()\n",
        "    ax2.set_ylabel('Number of Transactions', color='green')\n",
        "    ax2.plot(block_numbers, tx_counts, marker='o', linestyle='-', color='green', label='Number of Transactions')\n",
        "    ax2.tick_params(axis='y', labelcolor='green')\n",
        "\n",
        "    # 제목 및 범례 추가\n",
        "    plt.title('Average Fee and Number of Transactions per Block')\n",
        "    fig.tight_layout()\n",
        "    plt.show()\n",
        "elif sync_status:       # 연결되었으나 아직 동기 중\n",
        "    print(\"Syncing in progress...\")\n",
        "    print(f\"Starting block: {sync_status['startingBlock']}\")\n",
        "    print(f\"Current block: {sync_status['currentBlock']}\")\n",
        "    print(f\"Highest block: {sync_status['highestBlock']}\")\n",
        "    blocks_remaining = sync_status['highestBlock'] - sync_status['currentBlock']\n",
        "    print(f\"Blocks remaining: {blocks_remaining}\")\n",
        "\n",
        "    latest_block = web3.eth.block_number\n",
        "    print(f\"Latest block number: {latest_block}\")\n",
        "\n",
        "    # 네트워크 ID 조회\n",
        "    network_id = web3.net.version\n",
        "    print(f\"Network ID: {network_id}\")\n",
        "\n",
        "    # 연결된 피어 수 조회\n",
        "    peer_count = web3.net.peer_count\n",
        "\n",
        "    print(f\"Connected peers: {peer_count}\")\n",
        "    print(\"You need to wait to get access to blocks....\")\n",
        "else:       # 연결 안됨\n",
        "    print(\"Failed to connect to Ethereum network via nodejs\")\n"
      ],
      "metadata": {
        "id": "lT6rPRyJQBzH"
      },
      "execution_count": null,
      "outputs": []
    }
  ]
}