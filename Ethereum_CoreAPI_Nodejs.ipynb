{
  "nbformat": 4,
  "nbformat_minor": 0,
  "metadata": {
    "colab": {
      "provenance": [],
      "authorship_tag": "ABX9TyMlRi+Xngjm8wCiq28hjFSi",
      "include_colab_link": true
    },
    "kernelspec": {
      "name": "python3",
      "display_name": "Python 3"
    },
    "language_info": {
      "name": "python"
    }
  },
  "cells": [
    {
      "cell_type": "markdown",
      "metadata": {
        "id": "view-in-github",
        "colab_type": "text"
      },
      "source": [
        "<a href=\"https://colab.research.google.com/github/cras-lab/BlockChain_API/blob/main/Ethereum_CoreAPI_Nodejs.ipynb\" target=\"_parent\"><img src=\"https://colab.research.google.com/assets/colab-badge.svg\" alt=\"Open In Colab\"/></a>"
      ]
    },
    {
      "cell_type": "markdown",
      "source": [
        "이더리움 로컬에 접속하는 예제<BR>\n",
        "현재까지 다운로드한 최신 50개 블록 속의 트랜잭션개수와 총 수수료를 출력<BR>\n",
        "먼저 web3 모듈을 설치해야 한다."
      ],
      "metadata": {
        "id": "nkfS0xsQUDtV"
      }
    },
    {
      "cell_type": "code",
      "source": [
        "pip -q install web3"
      ],
      "metadata": {
        "id": "rl1sAIRHOh8U"
      },
      "execution_count": null,
      "outputs": []
    },
    {
      "cell_type": "code",
      "source": [
        "from web3 import Web3\n",
        "import matplotlib.pyplot as plt"
      ],
      "metadata": {
        "id": "24RcVOqEUSnQ"
      },
      "execution_count": 66,
      "outputs": []
    },
    {
      "cell_type": "markdown",
      "source": [
        "Colab 설치시 로컬접근을 위해서는 터널링이 필요하다.<BR>\n",
        "CMD창에서 \"lt --port 8545 --local-host 0.0.0.0\"을 실행해야 한다. <BR>\n",
        "Node.js를 사용해서 터널링을 한다.node.js를 실행하고 나서 나타나는 URL을 복사해서 입력"
      ],
      "metadata": {
        "id": "4Woa4OhlUwzQ"
      }
    },
    {
      "cell_type": "code",
      "source": [
        "# node.js를 통한 외부 접근 URL. Colab 설치시 필요\n",
        "nodejs_url =   \"https://chatty-apes-marry.loca.lt\""
      ],
      "metadata": {
        "id": "2l7W23LtU8em"
      },
      "execution_count": 67,
      "outputs": []
    },
    {
      "cell_type": "markdown",
      "source": [
        "로컬 이더리움에 접속한다."
      ],
      "metadata": {
        "id": "gfsq_95xVHUV"
      }
    },
    {
      "cell_type": "code",
      "source": [
        "web3 = Web3(Web3.HTTPProvider(nodejs_url))"
      ],
      "metadata": {
        "id": "l6fdx9aCVOtO"
      },
      "execution_count": 68,
      "outputs": []
    },
    {
      "cell_type": "markdown",
      "source": [
        "접속된 상태이면 값을 읽어온다. 아직 동기 중이라면 오류가 날 수 있다.<BR>\n",
        "값을 읽어오면 그래프로 그린다. 좌측은 수수료, 우측은 tx개수"
      ],
      "metadata": {
        "id": "-2Sh_NyhVSMU"
      }
    },
    {
      "cell_type": "code",
      "source": [
        "# 연결 상태 확인\n",
        "if web3.is_connected():\n",
        "    print(\"Connected to Ethereum network\")\n",
        "\n",
        "    # 동기화 상태 확인\n",
        "    sync_status = web3.eth.syncing\n",
        "    if sync_status:\n",
        "        print(\"Syncing in progress...\")\n",
        "        print(sync_status)\n",
        "\n",
        "        # 동기화된 최신 블록 번호 조회\n",
        "        current_block = sync_status.currentBlock\n",
        "        print(f\"Current synced block: {current_block}\")\n",
        "\n",
        "        # 동기화된 범위 내의 블록 조회\n",
        "        start_block = max(0, current_block - 50)\n",
        "        end_block = current_block\n",
        "\n",
        "    else:\n",
        "        print(\"Geth node is fully synced\")\n",
        "\n",
        "        # 최신 블록 번호 조회\n",
        "        latest_block = web3.eth.block_number\n",
        "        print(f\"Latest block number: {latest_block}\")\n",
        "\n",
        "        # 동기화된 범위 내의 블록 조회\n",
        "        start_block = max(0, latest_block - 50)\n",
        "        end_block = latest_block\n",
        "\n",
        "    block_numbers = []\n",
        "    total_fees = []\n",
        "    transaction_counts = []\n",
        "\n",
        "    for block_number in range(start_block, end_block + 1):\n",
        "        try:\n",
        "            block = web3.eth.get_block(block_number, full_transactions=True)\n",
        "            transactions = block['transactions']\n",
        "            total_fee = sum(tx['gasPrice'] * tx['gas'] for tx in transactions) / 10**18  # ETH 단위로 변환\n",
        "            block_numbers.append(block_number)\n",
        "            total_fees.append(total_fee)\n",
        "            transaction_counts.append(len(transactions))\n",
        "            print(f\"Block {block_number} has {len(transactions)} transactions with total fee {total_fee} ETH\")\n",
        "        except Exception as e:\n",
        "            print(f\"Could not fetch block {block_number}: {e}\")\n",
        "\n",
        "    # 수수료 변화를 그래프로 그리기\n",
        "    fig, ax1 = plt.subplots(figsize=(10, 5))\n",
        "\n",
        "    color = 'tab:blue'\n",
        "    ax1.set_xlabel('Block Number')\n",
        "    ax1.set_ylabel('Total Fees (ETH)', color=color)\n",
        "    ax1.plot(block_numbers, total_fees, marker='o', linestyle='-', color=color)\n",
        "    ax1.tick_params(axis='y', labelcolor=color)\n",
        "    ax1.grid(True)\n",
        "\n",
        "    ax2 = ax1.twinx()  # instantiate a second axes that shares the same x-axis\n",
        "\n",
        "    color = 'tab:red'\n",
        "    ax2.set_ylabel('Number of Transactions', color=color)  # we already handled the x-label with ax1\n",
        "    ax2.plot(block_numbers, transaction_counts, marker='x', linestyle='--', color=color)\n",
        "    ax2.tick_params(axis='y', labelcolor=color)\n",
        "\n",
        "    fig.tight_layout()  # otherwise the right y-label is slightly clipped\n",
        "    plt.title('Total Fees and Number of Transactions per Block')\n",
        "    plt.show()\n",
        "\n",
        "else:\n",
        "    print(\"Failed to connect to Ethereum network\")\n"
      ],
      "metadata": {
        "id": "llKfFD2vXoe0"
      },
      "execution_count": null,
      "outputs": []
    }
  ]
}