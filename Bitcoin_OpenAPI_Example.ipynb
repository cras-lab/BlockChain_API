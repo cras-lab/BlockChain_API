{
  "nbformat": 4,
  "nbformat_minor": 0,
  "metadata": {
    "colab": {
      "provenance": [],
      "authorship_tag": "ABX9TyNseCdfmACusKKA0kTZrZ9r",
      "include_colab_link": true
    },
    "kernelspec": {
      "name": "python3",
      "display_name": "Python 3"
    },
    "language_info": {
      "name": "python"
    }
  },
  "cells": [
    {
      "cell_type": "markdown",
      "metadata": {
        "id": "view-in-github",
        "colab_type": "text"
      },
      "source": [
        "<a href=\"https://colab.research.google.com/github/cras-lab/BlockChain_API/blob/main/Bitcoin_OpenAPI_Example.ipynb\" target=\"_parent\"><img src=\"https://colab.research.google.com/assets/colab-badge.svg\" alt=\"Open In Colab\"/></a>"
      ]
    },
    {
      "cell_type": "markdown",
      "source": [
        "Open API를 이용해 700000 ~ 700020 블록 내용을 읽어옴"
      ],
      "metadata": {
        "id": "z93pk9BcGOov"
      }
    },
    {
      "cell_type": "markdown",
      "source": [
        "먼저 필요한 모듈을 임포트 한다."
      ],
      "metadata": {
        "id": "SPTh8EjdGVLe"
      }
    },
    {
      "cell_type": "code",
      "source": [
        "import requests\n",
        "import matplotlib.pyplot as plt"
      ],
      "metadata": {
        "id": "4A_vpDsFGW4n"
      },
      "execution_count": 2,
      "outputs": []
    },
    {
      "cell_type": "markdown",
      "source": [
        "읽어 올 블록 범위를 지정한다. 무료버전에서는 많이 읽어올 수 없으므로<BR>\n",
        "21개만 지정한다."
      ],
      "metadata": {
        "id": "3MH3VkUqGYrY"
      }
    },
    {
      "cell_type": "code",
      "source": [
        "# Define the range of block heights\n",
        "start_block = 700000\n",
        "end_block = 700020"
      ],
      "metadata": {
        "id": "mp_USLBqGiAW"
      },
      "execution_count": 21,
      "outputs": []
    },
    {
      "cell_type": "markdown",
      "source": [
        "Open API 제공자의 URL을 설정한다."
      ],
      "metadata": {
        "id": "LJahRID1GjfG"
      }
    },
    {
      "cell_type": "code",
      "source": [
        "# API URL\n",
        "api_url = \"https://api.blockchair.com/bitcoin/blocks\""
      ],
      "metadata": {
        "id": "8bFva9K8GnjJ"
      },
      "execution_count": 22,
      "outputs": []
    },
    {
      "cell_type": "markdown",
      "source": [
        "트랜잭션 개수, 수수료, 보상금을 담아 둘 저장소를 마련한다."
      ],
      "metadata": {
        "id": "w9r-_8EOGpeh"
      }
    },
    {
      "cell_type": "code",
      "source": [
        "# Collect data\n",
        "block_heights = []\n",
        "tx_counts = []\n",
        "fees = []\n",
        "rewards = []"
      ],
      "metadata": {
        "id": "GtuTnsmnGukR"
      },
      "execution_count": 23,
      "outputs": []
    },
    {
      "cell_type": "markdown",
      "source": [
        "루프를 돌면서 API를 불러 데이터를 읽어 온다."
      ],
      "metadata": {
        "id": "NtvSoEmHGxaX"
      }
    },
    {
      "cell_type": "code",
      "source": [
        "# Loop through the range of block heights and collect data\n",
        "for block_height in range(start_block, end_block + 1):\n",
        "    response = requests.get(f\"{api_url}?q=id({block_height})\")\n",
        "    data = response.json()\n",
        "\n",
        "    if 'data' in data and data['data']:\n",
        "        # Access the block data\n",
        "        block_data = data['data'][0]  # First item in the list\n",
        "\n",
        "        block_heights.append(block_data['id'])\n",
        "        tx_counts.append(block_data.get('transaction_count', 0))\n",
        "\n",
        "        # total에 보조금과 수수료가 모두 들어 있다.\n",
        "        total_reward = block_data.get('reward', 0) / 1e8  # 사토시를  BTC로 수정\n",
        "        exp = int(block_height/210000 )\n",
        "        block_reward = 50 * ( (1/2) ** exp )  # 현재 블록 보조금 계산\n",
        "        fee_value = total_reward - block_reward  # 전체 보상금에서 보조금을 빼면 수수료가 됨\n",
        "\n",
        "        rewards.append(block_reward)\n",
        "        fees.append(fee_value)\n",
        "    else:\n",
        "        # Default values if no data\n",
        "        block_heights.append(block_height)\n",
        "        tx_counts.append(0)\n",
        "        fees.append(0)\n",
        "        rewards.append(0)"
      ],
      "metadata": {
        "id": "mc7n3SndJN0E"
      },
      "execution_count": 24,
      "outputs": []
    },
    {
      "cell_type": "markdown",
      "source": [
        "그래프로 그린다. <BR>\n",
        "트랜잭션은 천단위이고 수수료는 1단위이므로, 서로 단위가 다르므로 축을 분리<BR>\n",
        "죄측은 트랜잭션, 우측은 보조금과 수수료 단위를 표시한다."
      ],
      "metadata": {
        "id": "mDejhUQTMKBG"
      }
    },
    {
      "cell_type": "code",
      "source": [
        "fig, ax1 = plt.subplots()\n",
        "\n",
        "# Plot transaction counts\n",
        "color = 'tab:blue'\n",
        "ax1.set_xlabel('Block Height')\n",
        "ax1.set_ylabel('Transaction Count', color=color)\n",
        "ax1.plot(block_heights, tx_counts, color=color, label='Transaction Count')\n",
        "ax1.tick_params(axis='y', labelcolor=color)\n",
        "\n",
        "# Plot fees and rewards on a secondary y-axis\n",
        "ax2 = ax1.twinx()\n",
        "color = 'tab:red'\n",
        "ax2.set_ylabel('Fees and Rewards (BTC)', color=color)\n",
        "ax2.plot(block_heights, fees, color='tab:green', label='Fees')\n",
        "ax2.plot(block_heights, rewards, color='tab:red', label='Rewards')\n",
        "ax2.tick_params(axis='y', labelcolor=color)\n",
        "\n",
        "# Legends\n",
        "fig.tight_layout()  # Adjust layout to accommodate labels\n",
        "ax1.legend(loc='upper left')\n",
        "ax2.legend(loc='upper right')\n",
        "\n",
        "# Show plot\n",
        "plt.title('Bitcoin Block Data (700000 to 700020)')\n",
        "plt.show()"
      ],
      "metadata": {
        "id": "T-lH2bZCJoM3"
      },
      "execution_count": null,
      "outputs": []
    }
  ]
}